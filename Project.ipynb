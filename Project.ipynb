{
 "cells": [
  {
   "cell_type": "markdown",
   "metadata": {},
   "source": [
    "### I. Necessary imports and functions to be used, Loading the data"
   ]
  },
  {
   "cell_type": "code",
   "execution_count": 1,
   "metadata": {},
   "outputs": [
    {
     "name": "stderr",
     "output_type": "stream",
     "text": [
      "[nltk_data] Downloading package wordnet to /home/typedoor/nltk_data...\n",
      "[nltk_data]   Package wordnet is already up-to-date!\n",
      "Using TensorFlow backend.\n"
     ]
    }
   ],
   "source": [
    "import pandas as pd\n",
    "import numpy as np\n",
    "import matplotlib.pyplot as plt\n",
    "from sklearn.preprocessing import StandardScaler, LabelEncoder\n",
    "import sklearn.model_selection\n",
    "from sklearn.model_selection import train_test_split\n",
    "from sklearn.linear_model import LogisticRegression\n",
    "from sklearn.svm import SVC\n",
    "from sklearn import tree\n",
    "from sklearn.neighbors import KNeighborsClassifier\n",
    "from sklearn.naive_bayes import GaussianNB, MultinomialNB\n",
    "from sklearn import metrics\n",
    "from sklearn.feature_extraction.text import CountVectorizer\n",
    "from sklearn.ensemble import RandomForestClassifier\n",
    "\n",
    "import nltk\n",
    "from nltk.stem import PorterStemmer\n",
    "from nltk.stem import LancasterStemmer\n",
    "from nltk.tokenize import sent_tokenize, word_tokenize\n",
    "from nltk.corpus import stopwords\n",
    "from nltk.stem.wordnet import WordNetLemmatizer\n",
    "nltk.download('wordnet')\n",
    "\n",
    "\n",
    "from keras.models import Sequential\n",
    "from keras.layers import Dense, Conv1D, Flatten, MaxPooling1D\n",
    "\n",
    "#word2vec\n",
    "# from gensim.models import Word2Vec  \n",
    "# import gensim\n",
    "# import string"
   ]
  },
  {
   "cell_type": "code",
   "execution_count": 2,
   "metadata": {},
   "outputs": [],
   "source": [
    "#the path that the data is stored. Only for local use\n",
    "PATH = '/home/typedoor/PLBRS/Data/'"
   ]
  },
  {
   "cell_type": "markdown",
   "metadata": {},
   "source": [
    "Loading Data"
   ]
  },
  {
   "cell_type": "code",
   "execution_count": 3,
   "metadata": {},
   "outputs": [
    {
     "data": {
      "text/html": [
       "<div>\n",
       "<style scoped>\n",
       "    .dataframe tbody tr th:only-of-type {\n",
       "        vertical-align: middle;\n",
       "    }\n",
       "\n",
       "    .dataframe tbody tr th {\n",
       "        vertical-align: top;\n",
       "    }\n",
       "\n",
       "    .dataframe thead th {\n",
       "        text-align: right;\n",
       "    }\n",
       "</style>\n",
       "<table border=\"1\" class=\"dataframe\">\n",
       "  <thead>\n",
       "    <tr style=\"text-align: right;\">\n",
       "      <th></th>\n",
       "      <th>Line</th>\n",
       "    </tr>\n",
       "    <tr>\n",
       "      <th>Character</th>\n",
       "      <th></th>\n",
       "    </tr>\n",
       "  </thead>\n",
       "  <tbody>\n",
       "    <tr>\n",
       "      <th>Bart Simpson</th>\n",
       "      <td>19486</td>\n",
       "    </tr>\n",
       "    <tr>\n",
       "      <th>Cartman</th>\n",
       "      <td>20593</td>\n",
       "    </tr>\n",
       "    <tr>\n",
       "      <th>Homer Simpson</th>\n",
       "      <td>46333</td>\n",
       "    </tr>\n",
       "    <tr>\n",
       "      <th>Kyle</th>\n",
       "      <td>11094</td>\n",
       "    </tr>\n",
       "    <tr>\n",
       "      <th>Lisa Simpson</th>\n",
       "      <td>15873</td>\n",
       "    </tr>\n",
       "    <tr>\n",
       "      <th>Marge Simpson</th>\n",
       "      <td>19475</td>\n",
       "    </tr>\n",
       "    <tr>\n",
       "      <th>Stan</th>\n",
       "      <td>11561</td>\n",
       "    </tr>\n",
       "  </tbody>\n",
       "</table>\n",
       "</div>"
      ],
      "text/plain": [
       "                Line\n",
       "Character           \n",
       "Bart Simpson   19486\n",
       "Cartman        20593\n",
       "Homer Simpson  46333\n",
       "Kyle           11094\n",
       "Lisa Simpson   15873\n",
       "Marge Simpson  19475\n",
       "Stan           11561"
      ]
     },
     "execution_count": 3,
     "metadata": {},
     "output_type": "execute_result"
    }
   ],
   "source": [
    "simpsons = pd.read_csv(PATH + 'simpson_family_sentence_by_sentence.csv')\n",
    "#simpsons.Character = simpsons.Character.map({'Homer Simpson' : 0, 'Marge Simpson' : 1, 'Lisa Simpson' : 2, 'Bart Simpson' : 3})\n",
    "south_park = pd.read_csv(PATH + 'south_park_sentence_by_sentence.csv')\n",
    "\n",
    "merged_series = simpsons.append(south_park)\n",
    "merged_series.groupby('Character').count()"
   ]
  },
  {
   "cell_type": "markdown",
   "metadata": {},
   "source": [
    "### Pre-processing steps ###"
   ]
  },
  {
   "cell_type": "markdown",
   "metadata": {},
   "source": [
    "Define functions to apply cleaning, stemmization, lemmatization and removing stop words from data set"
   ]
  },
  {
   "cell_type": "code",
   "execution_count": 4,
   "metadata": {},
   "outputs": [],
   "source": [
    "stop_words = set(stopwords.words('english'))\n",
    "\n",
    "ps = PorterStemmer()\n",
    "lem = WordNetLemmatizer()\n",
    "\n",
    "def clean(text, stem_words=True):\n",
    "    import re    # for regular expressions\n",
    "    from string import punctuation\n",
    "    from nltk.stem import SnowballStemmer    #if you are brave enough to do stemming\n",
    "    from nltk.corpus import stopwords      #if you want to remove stopwords\n",
    "    \n",
    "    # Empty question\n",
    "    \n",
    "    if type(text) != str or text=='':\n",
    "        return ''\n",
    "\n",
    "    text = text.lower()\n",
    "    # Clean the text (here i have 2-3 cases of pre-processing by sampling the data. You might need more)\n",
    "    text = re.sub(\"\\'s\", \" \", text) # we have cases like \"Sam is\" or \"Sam's\" (i.e. his) these two cases aren't separable, I choose to compromise are kill \"'s\" directly\n",
    "    text = re.sub(\" whats \", \" what is \", text, flags=re.IGNORECASE)\n",
    "    text = re.sub(\"\\'ve\", \" have \", text)\n",
    "    text = re.sub(' the ', ' ', text)\n",
    "    text = re.sub(' a ', ' ', text)\n",
    "    text = re.sub(\"can't\", \"cannot \", text)\n",
    "    text = re.sub(\"n't\", \" not \", text)\n",
    "    text = re.sub('\"',' ', text)\n",
    "    text = re.sub(\"\\'m\", ' am ', text)\n",
    "    text = re.sub('\\s',' ',text)\n",
    "    text = re.sub('$','', text)\n",
    "    #you might need more\n",
    "    \n",
    "    # remove comma between numbers, i.e. 15,000 -> 15000\n",
    "    text = re.sub('(?<=[0-9])\\,(?=[0-9])', \"\", text)\n",
    "    text = re.sub(\"\\?\",'',text)\n",
    "    text = re.sub(\"\\,\",'', text)\n",
    "    text = re.sub(\";\", '', text)\n",
    "    text = re.sub('!', '', text)\n",
    "    text = re.sub(\":\", '', text)\n",
    "    text = re.sub('-',' ', text)\n",
    "    text = re.sub('\\.','', text)\n",
    "    text = re.sub(\"/\", ' ', text)\n",
    "    text = re.sub(\"'\", ' ', text)\n",
    "    text = re.sub('$','', text)\n",
    "    \n",
    "    # Return a list of words\n",
    "    return text\n",
    "\n",
    "\n",
    "def remove_stop_words(line):\n",
    "    result = ''\n",
    "    for word in line.lower().split():\n",
    "        if word not in stop_words:\n",
    "            result = result + \" \" + word\n",
    "    \n",
    "    return result\n",
    "\n",
    "def stemm_words(line):\n",
    "    result = ''\n",
    "    \n",
    "    for word in line.split():\n",
    "        result = result + \" \" + ps.stem(word)\n",
    "    \n",
    "    return result\n",
    "\n",
    "def lemmatize_words(line):\n",
    "    result = ''\n",
    "    \n",
    "    for word in line.split():\n",
    "        result = result + ' ' + lem.lemmatize(word)\n",
    "     \n",
    "    return result\n"
   ]
  },
  {
   "cell_type": "markdown",
   "metadata": {},
   "source": [
    "Work with the copy of the original data sets to have it as the reference"
   ]
  },
  {
   "cell_type": "code",
   "execution_count": 5,
   "metadata": {},
   "outputs": [],
   "source": [
    "south_park_processed = south_park.copy()\n",
    "simpsons_processed = simpsons.copy()\n",
    "merged_processed = merged_series.copy()"
   ]
  },
  {
   "cell_type": "markdown",
   "metadata": {},
   "source": [
    "Applyting all pre-processing steps to newly copied data sets"
   ]
  },
  {
   "cell_type": "code",
   "execution_count": 6,
   "metadata": {},
   "outputs": [],
   "source": [
    "south_park_processed.Line = south_park_processed.Line.apply(clean)\n",
    "south_park_processed.Line = south_park_processed.Line.apply(remove_stop_words)\n",
    "south_park_processed.Line = south_park_processed.Line.apply(stemm_words)\n",
    "south_park_processed.Line = south_park_processed.Line.apply(lemmatize_words)\n",
    "\n",
    "simpsons_processed.Line = simpsons_processed.Line.apply(clean)\n",
    "simpsons_processed.Line = simpsons_processed.Line.apply(remove_stop_words)\n",
    "simpsons_processed.Line = simpsons_processed.Line.apply(stemm_words)\n",
    "simpsons_processed.Line = simpsons_processed.Line.apply(lemmatize_words)\n",
    "\n",
    "merged_processed.Line = merged_processed.Line.apply(clean)\n",
    "merged_processed.Line = merged_processed.Line.apply(remove_stop_words)\n",
    "merged_processed.Line = merged_processed.Line.apply(stemm_words)\n",
    "merged_processed.Line = merged_processed.Line.apply(lemmatize_words)\n"
   ]
  },
  {
   "cell_type": "markdown",
   "metadata": {},
   "source": [
    "### Simple models for classification ###"
   ]
  },
  {
   "cell_type": "markdown",
   "metadata": {},
   "source": [
    "Splitting data for training and test sets for each data set"
   ]
  },
  {
   "cell_type": "code",
   "execution_count": 7,
   "metadata": {},
   "outputs": [],
   "source": [
    "lines_south = south_park_processed.Line.values\n",
    "lines_simpsons = simpsons_processed.Line.values\n",
    "lines_mer = merged_processed.Line.values\n",
    "\n",
    "y_sp = south_park_processed.Character.values\n",
    "y_sim = simpsons_processed.Character.values\n",
    "y_mer = merged_processed.Character.values\n",
    "\n",
    "\n",
    "lines_train_sp, lines_test_sp, y_train_sp, y_test_sp = train_test_split(lines_south, y_sp, test_size=0.25, random_state=21,stratify = y_sp)\n",
    "lines_train_sim, lines_test_sim, y_train_sim, y_test_sim = train_test_split(lines_simpsons, y_sim, test_size=0.25, random_state=21,stratify = y_sim)\n",
    "lines_train_mer, lines_test_mer, y_train_mer, y_test_mer = train_test_split(lines_mer, y_mer, test_size=0.25, random_state=21,stratify = y_mer)\n",
    "\n",
    "\n",
    "vectorizer_sp = CountVectorizer()\n",
    "X_train_sp =vectorizer_sp.fit_transform(lines_train_sp)\n",
    "X_test_sp = vectorizer_sp.transform(lines_test_sp)\n",
    "\n",
    "\n",
    "vectorizer_sim = CountVectorizer()\n",
    "X_train_sim = vectorizer_sim.fit_transform(lines_train_sim)\n",
    "X_test_sim  = vectorizer_sim.transform(lines_test_sim)\n",
    "\n",
    "vectorizer_mer = CountVectorizer()\n",
    "X_train_mer = vectorizer_mer.fit_transform(lines_train_mer)\n",
    "X_test_mer  = vectorizer_mer.transform(lines_test_mer)"
   ]
  },
  {
   "cell_type": "markdown",
   "metadata": {},
   "source": [
    "Defining a simple models."
   ]
  },
  {
   "cell_type": "markdown",
   "metadata": {},
   "source": [
    "Logistic Regression. Unbalanced data set. "
   ]
  },
  {
   "cell_type": "code",
   "execution_count": 8,
   "metadata": {},
   "outputs": [
    {
     "name": "stdout",
     "output_type": "stream",
     "text": [
      "South Park 3-class classifier\n",
      "              precision    recall  f1-score   support\n",
      "\n",
      "     Cartman       0.65      0.55      0.59      5148\n",
      "        Kyle       0.36      0.46      0.40      2774\n",
      "        Stan       0.37      0.38      0.38      2890\n",
      "\n",
      "   micro avg       0.48      0.48      0.48     10812\n",
      "   macro avg       0.46      0.46      0.46     10812\n",
      "weighted avg       0.50      0.48      0.49     10812\n",
      "\n",
      "Simpsons 4-class classifier\n",
      "               precision    recall  f1-score   support\n",
      "\n",
      " Bart Simpson       0.33      0.34      0.33      4872\n",
      "Homer Simpson       0.59      0.50      0.54     11583\n",
      " Lisa Simpson       0.31      0.36      0.33      3968\n",
      "Marge Simpson       0.37      0.43      0.40      4869\n",
      "\n",
      "    micro avg       0.43      0.43      0.43     25292\n",
      "    macro avg       0.40      0.41      0.40     25292\n",
      " weighted avg       0.45      0.43      0.44     25292\n",
      "\n",
      "Both Series characters\n",
      "               precision    recall  f1-score   support\n",
      "\n",
      " Bart Simpson       0.29      0.26      0.28      4872\n",
      "      Cartman       0.44      0.40      0.42      5148\n",
      "Homer Simpson       0.50      0.42      0.46     11583\n",
      "         Kyle       0.21      0.27      0.24      2774\n",
      " Lisa Simpson       0.28      0.31      0.29      3968\n",
      "Marge Simpson       0.34      0.39      0.36      4869\n",
      "         Stan       0.23      0.30      0.26      2890\n",
      "\n",
      "    micro avg       0.36      0.36      0.36     36104\n",
      "    macro avg       0.33      0.34      0.33     36104\n",
      " weighted avg       0.37      0.36      0.36     36104\n",
      "\n"
     ]
    }
   ],
   "source": [
    "clf = LogisticRegression(solver='lbfgs', max_iter = 1000,class_weight = 'balanced', multi_class ='ovr')\n",
    "\n",
    "\n",
    "clf.fit(X_train_sp,y_train_sp)\n",
    "predicted = clf.predict(X_test_sp)\n",
    "print('South Park 3-class classifier')\n",
    "#print(metrics.confusion_matrix(y_test_sp, predicted))\n",
    "print(metrics.classification_report(y_test_sp, predicted))\n",
    "\n",
    "\n",
    "clf.fit(X_train_sim,y_train_sim)\n",
    "predicted = clf.predict(X_test_sim)\n",
    "print('Simpsons 4-class classifier')\n",
    "#print(metrics.confusion_matrix(y_test_sim, predicted))\n",
    "print(metrics.classification_report(y_test_sim, predicted))\n",
    "\n",
    "clf.fit(X_train_mer,y_train_mer)\n",
    "predicted = clf.predict(X_test_mer)\n",
    "print('Both Series characters')\n",
    "#print(metrics.confusion_matrix(y_test_mer, predicted))\n",
    "print(metrics.classification_report(y_test_mer, predicted))"
   ]
  },
  {
   "cell_type": "markdown",
   "metadata": {},
   "source": [
    "Naive Bayes with unalanced data."
   ]
  },
  {
   "cell_type": "code",
   "execution_count": 9,
   "metadata": {},
   "outputs": [
    {
     "name": "stdout",
     "output_type": "stream",
     "text": [
      "South Park 3-class classifier unbalanced\n",
      "              precision    recall  f1-score   support\n",
      "\n",
      "     Cartman       0.55      0.83      0.66      5148\n",
      "        Kyle       0.47      0.22      0.30      2774\n",
      "        Stan       0.44      0.26      0.33      2890\n",
      "\n",
      "   micro avg       0.52      0.52      0.52     10812\n",
      "   macro avg       0.48      0.44      0.43     10812\n",
      "weighted avg       0.50      0.52      0.48     10812\n",
      "\n",
      "Simpsons 4-class classifier unbalanced\n",
      "               precision    recall  f1-score   support\n",
      "\n",
      " Bart Simpson       0.47      0.18      0.26      4872\n",
      "Homer Simpson       0.52      0.88      0.65     11583\n",
      " Lisa Simpson       0.45      0.19      0.26      3968\n",
      "Marge Simpson       0.50      0.22      0.30      4869\n",
      "\n",
      "    micro avg       0.51      0.51      0.51     25292\n",
      "    macro avg       0.48      0.37      0.37     25292\n",
      " weighted avg       0.49      0.51      0.45     25292\n",
      "\n",
      "Both Series characters unbalanced\n",
      "               precision    recall  f1-score   support\n",
      "\n",
      " Bart Simpson       0.41      0.16      0.23      4872\n",
      "      Cartman       0.50      0.39      0.44      5148\n",
      "Homer Simpson       0.40      0.85      0.55     11583\n",
      "         Kyle       0.50      0.13      0.21      2774\n",
      " Lisa Simpson       0.40      0.17      0.24      3968\n",
      "Marge Simpson       0.48      0.20      0.29      4869\n",
      "         Stan       0.42      0.13      0.20      2890\n",
      "\n",
      "    micro avg       0.42      0.42      0.42     36104\n",
      "    macro avg       0.45      0.29      0.31     36104\n",
      " weighted avg       0.44      0.42      0.37     36104\n",
      "\n"
     ]
    }
   ],
   "source": [
    "clf = MultinomialNB()\n",
    "\n",
    "\n",
    "clf.fit(X_train_sp,y_train_sp)\n",
    "predicted = clf.predict(X_test_sp)\n",
    "print('South Park 3-class classifier unbalanced')\n",
    "#print(metrics.confusion_matrix(y_test_sp, predicted))\n",
    "print(metrics.classification_report(y_test_sp, predicted))\n",
    "\n",
    "\n",
    "clf.fit(X_train_sim,y_train_sim)\n",
    "predicted = clf.predict(X_test_sim)\n",
    "print('Simpsons 4-class classifier unbalanced')\n",
    "#print(metrics.confusion_matrix(y_test_sim, predicted))\n",
    "print(metrics.classification_report(y_test_sim, predicted))\n",
    "\n",
    "clf.fit(X_train_mer,y_train_mer)\n",
    "predicted = clf.predict(X_test_mer)\n",
    "print('Both Series characters unbalanced')\n",
    "#print(metrics.confusion_matrix(y_test_mer, predicted))\n",
    "print(metrics.classification_report(y_test_mer, predicted))"
   ]
  },
  {
   "cell_type": "markdown",
   "metadata": {},
   "source": [
    "## Balanced Data ##"
   ]
  },
  {
   "cell_type": "code",
   "execution_count": null,
   "metadata": {},
   "outputs": [
    {
     "data": {
      "text/plain": [
       "'score = mnb_bal.predict_proba(X_test_mer)\\nprint(score[300])\\nprint(mnb_bal.predict(X_test_mer[300]))\\ny_test_mer\\n\\nbart_counter = 0\\ncartman_counter = 0\\nhomer_counter = 0\\nkyle_counter = 0\\nlisa_counter = 0\\nmarge_counter = 0\\nstan_counter = 0\\nfor val in y_train_mer:\\n    if (val == \\'Cartman\\'):\\n        cartman_counter += 1\\n    if (val == \\'Marge Simpson\\'):\\n        marge_counter += 1\\n    if (val == \\'Homer Simpson\\'):\\n        homer_counter += 1\\n    if (val == \\'Kyle\\'):\\n        kyle_counter += 1\\n    if (val == \\'Lisa Simpson\\'):\\n        lisa_counter += 1\\n    if (val == \\'Bart Simpson\\'):\\n        bart_counter += 1\\n    if (val == \\'Stan\\'):\\n        stan_counter += 1\\n\\nbart_counter /= len(y_train_mer)\\ncartman_counter /= len(y_train_mer)\\nhomer_counter /= len(y_train_mer)\\nkyle_counter /= len(y_train_mer)\\nlisa_counter /= len(y_train_mer)\\nmarge_counter /= len(y_train_mer)\\nstan_counter /= len(y_train_mer)\\n\\nfor i,val in enumerate(score):\\n    if (y_test_mer[i] == \"Cartman\"):\\n        s = val[1]/cartman_counter\\n        print(s)'"
      ]
     },
     "execution_count": 10,
     "metadata": {},
     "output_type": "execute_result"
    }
   ],
   "source": [
    "'''score = mnb_bal.predict_proba(X_test_mer)\n",
    "print(score[300])\n",
    "print(mnb_bal.predict(X_test_mer[300]))\n",
    "y_test_mer\n",
    "\n",
    "bart_counter = 0\n",
    "cartman_counter = 0\n",
    "homer_counter = 0\n",
    "kyle_counter = 0\n",
    "lisa_counter = 0\n",
    "marge_counter = 0\n",
    "stan_counter = 0\n",
    "for val in y_train_mer:\n",
    "    if (val == 'Cartman'):\n",
    "        cartman_counter += 1\n",
    "    if (val == 'Marge Simpson'):\n",
    "        marge_counter += 1\n",
    "    if (val == 'Homer Simpson'):\n",
    "        homer_counter += 1\n",
    "    if (val == 'Kyle'):\n",
    "        kyle_counter += 1\n",
    "    if (val == 'Lisa Simpson'):\n",
    "        lisa_counter += 1\n",
    "    if (val == 'Bart Simpson'):\n",
    "        bart_counter += 1\n",
    "    if (val == 'Stan'):\n",
    "        stan_counter += 1\n",
    "\n",
    "bart_counter /= len(y_train_mer)\n",
    "cartman_counter /= len(y_train_mer)\n",
    "homer_counter /= len(y_train_mer)\n",
    "kyle_counter /= len(y_train_mer)\n",
    "lisa_counter /= len(y_train_mer)\n",
    "marge_counter /= len(y_train_mer)\n",
    "stan_counter /= len(y_train_mer)\n",
    "\n",
    "for i,val in enumerate(score):\n",
    "    if (y_test_mer[i] == \"Cartman\"):\n",
    "        s = val[1]/cartman_counter\n",
    "        print(s)'''"
   ]
  },
  {
   "cell_type": "markdown",
   "metadata": {},
   "source": [
    "Observe that unbalanced data creates unbalanced predictions.\n",
    "<br>Using imbalanced learn library to make use of oversampling"
   ]
  },
  {
   "cell_type": "code",
   "execution_count": null,
   "metadata": {},
   "outputs": [
    {
     "name": "stdout",
     "output_type": "stream",
     "text": [
      "              precision    recall  f1-score   support\n",
      "\n",
      "     Cartman       0.65      0.54      0.59      5148\n",
      "        Kyle       0.36      0.46      0.41      2774\n",
      "        Stan       0.37      0.38      0.38      2890\n",
      "\n",
      "   micro avg       0.48      0.48      0.48     10812\n",
      "   macro avg       0.46      0.46      0.46     10812\n",
      "weighted avg       0.50      0.48      0.49     10812\n",
      "\n",
      "               precision    recall  f1-score   support\n",
      "\n",
      " Bart Simpson       0.33      0.32      0.33      4872\n",
      "Homer Simpson       0.58      0.45      0.51     11583\n",
      " Lisa Simpson       0.27      0.41      0.33      3968\n",
      "Marge Simpson       0.36      0.42      0.39      4869\n",
      "\n",
      "    micro avg       0.41      0.41      0.41     25292\n",
      "    macro avg       0.39      0.40      0.39     25292\n",
      " weighted avg       0.44      0.41      0.42     25292\n",
      "\n",
      "               precision    recall  f1-score   support\n",
      "\n",
      " Bart Simpson       0.29      0.26      0.28      4872\n",
      "      Cartman       0.42      0.43      0.42      5148\n",
      "Homer Simpson       0.51      0.39      0.44     11583\n",
      "         Kyle       0.25      0.23      0.24      2774\n",
      " Lisa Simpson       0.22      0.35      0.27      3968\n",
      "Marge Simpson       0.33      0.38      0.35      4869\n",
      "         Stan       0.23      0.28      0.25      2890\n",
      "\n",
      "    micro avg       0.35      0.35      0.35     36104\n",
      "    macro avg       0.32      0.33      0.32     36104\n",
      " weighted avg       0.37      0.35      0.36     36104\n",
      "\n"
     ]
    }
   ],
   "source": [
    "from imblearn.over_sampling import SMOTE\n",
    "from imblearn.pipeline import make_pipeline\n",
    "clf = LogisticRegression\n",
    "\n",
    "pipeline_sp = make_pipeline(SMOTE(random_state = 42), clf(solver='lbfgs', max_iter = 1000,random_state = 42,multi_class = 'ovr'))\n",
    "model_sp = pipeline_sp.fit(X_train_sp,y_train_sp)\n",
    "predicted = model_sp.predict(X_test_sp)\n",
    "#print(metrics.confusion_matrix(y_test_sp, predicted))\n",
    "print(metrics.classification_report(y_test_sp, predicted))\n",
    "\n",
    "pipeline_sim = make_pipeline(SMOTE(random_state = 42), clf(solver='lbfgs', max_iter = 1000,random_state = 42,multi_class = 'ovr'))\n",
    "model_sim = pipeline_sim.fit(X_train_sim,y_train_sim)\n",
    "predicted = model_sim.predict(X_test_sim)\n",
    "#print(metrics.confusion_matrix(y_test_sim, predicted))\n",
    "print(metrics.classification_report(y_test_sim, predicted))\n",
    "\n",
    "\n",
    "pipeline_mer = make_pipeline(SMOTE(random_state = 42), clf(solver='lbfgs', max_iter = 1000,random_state = 42,multi_class = 'ovr'))\n",
    "model_mer = pipeline_mer.fit(X_train_mer,y_train_mer)\n",
    "predicted = model_mer.predict(X_test_mer)\n",
    "#print(metrics.confusion_matrix(y_test_mer, predicted))\n",
    "print(metrics.classification_report(y_test_mer, predicted))"
   ]
  },
  {
   "cell_type": "markdown",
   "metadata": {},
   "source": [
    "With Balanced data a higher recall for under-rpresented characters can be observed"
   ]
  },
  {
   "cell_type": "markdown",
   "metadata": {},
   "source": [
    "### More Complicated Classifiers ###"
   ]
  },
  {
   "cell_type": "code",
   "execution_count": null,
   "metadata": {},
   "outputs": [],
   "source": [
    "import matplotlib.pyplot as plt\n",
    "plt.style.use('ggplot')\n",
    "\n",
    "def plot_history(history):\n",
    "    \n",
    "    acc = history.history['acc']\n",
    "    val_acc = history.history['val_acc']\n",
    "    loss = history.history['loss']\n",
    "    val_loss = history.history['val_loss']\n",
    "    x = range(1, len(acc) + 1)\n",
    "\n",
    "    plt.figure(figsize=(12, 5))\n",
    "    plt.subplot(1, 2, 1)\n",
    "    plt.plot(x, acc, 'b', label='Training acc')\n",
    "    plt.plot(x, val_acc, 'r', label='Validation acc')\n",
    "    plt.title('Training and validation accuracy')\n",
    "    plt.legend()\n",
    "    plt.subplot(1, 2, 2)\n",
    "    plt.plot(x, loss, 'b', label='Training loss')\n",
    "    plt.plot(x, val_loss, 'r', label='Validation loss')\n",
    "    plt.title('Training and validation loss')\n",
    "    plt.legend()"
   ]
  },
  {
   "cell_type": "code",
   "execution_count": null,
   "metadata": {},
   "outputs": [],
   "source": [
    "from keras.preprocessing.text import Tokenizer\n",
    "from keras.preprocessing.sequence import pad_sequences\n",
    "from sklearn.preprocessing import OneHotEncoder\n",
    "\n",
    "\n",
    "\n",
    "tokenizer = Tokenizer()\n",
    "tokenizer.fit_on_texts(lines_train_mer)\n",
    "X_train = tokenizer.texts_to_sequences(lines_train_mer)\n",
    "X_test = tokenizer.texts_to_sequences(lines_test_mer)\n",
    "\n",
    "\n",
    "maxlen = 25#arbitrary\n",
    "\n",
    "# Adding 1 because of reserved 0 index\n",
    "vocab_size = len(tokenizer.word_index) + 1\n",
    "\n",
    "# Pad sequences with zeros\n",
    "X_train = pad_sequences(X_train, padding='post', maxlen=maxlen)\n",
    "X_test = pad_sequences(X_test, padding='post', maxlen=maxlen)\n",
    "\n",
    "\n",
    "onehot_encoder = OneHotEncoder(sparse=False, categories='auto')\n",
    "y_train = onehot_encoder.fit_transform(y_train_mer.reshape(len(y_train_mer),1))\n",
    "y_test = onehot_encoder.fit_transform(y_test_mer.reshape(len(y_test_mer),1))"
   ]
  },
  {
   "cell_type": "code",
   "execution_count": null,
   "metadata": {},
   "outputs": [
    {
     "name": "stdout",
     "output_type": "stream",
     "text": [
      "_________________________________________________________________\n",
      "Layer (type)                 Output Shape              Param #   \n",
      "=================================================================\n",
      "embedding_1 (Embedding)      (None, 25, 25)            443825    \n",
      "_________________________________________________________________\n",
      "conv1d_1 (Conv1D)            (None, 21, 128)           16128     \n",
      "_________________________________________________________________\n",
      "global_max_pooling1d_1 (Glob (None, 128)               0         \n",
      "_________________________________________________________________\n",
      "dense_1 (Dense)              (None, 25)                3225      \n",
      "_________________________________________________________________\n",
      "dense_2 (Dense)              (None, 7)                 182       \n",
      "=================================================================\n",
      "Total params: 463,360\n",
      "Trainable params: 463,360\n",
      "Non-trainable params: 0\n",
      "_________________________________________________________________\n"
     ]
    }
   ],
   "source": [
    "from keras.models import Sequential\n",
    "from keras import layers\n",
    "\n",
    "embedding_dim = 25\n",
    "\n",
    "model = Sequential()\n",
    "model.add(layers.Embedding(vocab_size, embedding_dim, input_length=maxlen))\n",
    "model.add(layers.Conv1D(128, 5, activation='relu'))\n",
    "model.add(layers.GlobalMaxPooling1D())\n",
    "model.add(layers.Dense(25, activation='relu'))\n",
    "model.add(layers.Dense(7, activation='softmax'))\n",
    "model.compile(optimizer='adam',loss='categorical_crossentropy',metrics=['accuracy'])\n",
    "model.summary()"
   ]
  },
  {
   "cell_type": "code",
   "execution_count": null,
   "metadata": {},
   "outputs": [
    {
     "name": "stdout",
     "output_type": "stream",
     "text": [
      "Train on 108311 samples, validate on 36104 samples\n",
      "Epoch 1/3\n",
      "108311/108311 [==============================] - 207s 2ms/step - loss: 1.5962 - acc: 0.3946 - val_loss: 1.5367 - val_acc: 0.4164\n",
      "Epoch 2/3\n",
      "108311/108311 [==============================] - 168s 2ms/step - loss: 1.4473 - acc: 0.4471 - val_loss: 1.5358 - val_acc: 0.4213\n",
      "Epoch 3/3\n",
      "108311/108311 [==============================] - 185s 2ms/step - loss: 1.3455 - acc: 0.4934 - val_loss: 1.5573 - val_acc: 0.4188\n",
      "Training Accuracy: 0.5448\n",
      "Testing Accuracy:  0.4188\n"
     ]
    },
    {
     "data": {
      "image/png": "[encoded data removed]",
      "text/plain": [
       "<Figure size 864x360 with 2 Axes>"
      ]
     },
     "metadata": {},
     "output_type": "display_data"
    }
   ],
   "source": [
    "history = model.fit(X_train, y_train,\n",
    "                    epochs=3,\n",
    "                    verbose=True,\n",
    "                    validation_data=(X_test, y_test),\n",
    "                    batch_size=10)\n",
    "loss, accuracy = model.evaluate(X_train, y_train, verbose=False)\n",
    "print(\"Training Accuracy: {:.4f}\".format(accuracy))\n",
    "loss, accuracy = model.evaluate(X_test, y_test, verbose=False)\n",
    "print(\"Testing Accuracy:  {:.4f}\".format(accuracy))\n",
    "plot_history(history)"
   ]
  },
  {
   "cell_type": "code",
   "execution_count": null,
   "metadata": {},
   "outputs": [
    {
     "name": "stdout",
     "output_type": "stream",
     "text": [
      "_________________________________________________________________\n",
      "Layer (type)                 Output Shape              Param #   \n",
      "=================================================================\n",
      "embedding_2 (Embedding)      (None, 25, 25)            443825    \n",
      "_________________________________________________________________\n",
      "lstm_1 (LSTM)                (None, 56)                18368     \n",
      "_________________________________________________________________\n",
      "dense_3 (Dense)              (None, 7)                 399       \n",
      "=================================================================\n",
      "Total params: 462,592\n",
      "Trainable params: 462,592\n",
      "Non-trainable params: 0\n",
      "_________________________________________________________________\n",
      "Train on 108311 samples, validate on 36104 samples\n",
      "Epoch 1/7\n",
      "108311/108311 [==============================] - 352s 3ms/step - loss: 1.7232 - acc: 0.3503 - val_loss: 1.6343 - val_acc: 0.3639\n",
      "Epoch 2/7\n",
      "101680/108311 [===========================>..] - ETA: 21s - loss: 1.5869 - acc: 0.3920"
     ]
    }
   ],
   "source": [
    "from keras.models import Sequential\n",
    "from keras.layers import Dense, LSTM, Embedding\n",
    "\n",
    "embedding_dim = 25\n",
    "model = Sequential()\n",
    "model.add(layers.Embedding(vocab_size, embedding_dim, input_length=maxlen))\n",
    "#model.add(layers.Embedding(vocab_size, embedding_dim, weights=[embedding_matrix], input_length=maxlen, trainable=True))\n",
    "model.add(layers.LSTM(56, activation='relu',dropout=0.2, recurrent_dropout=0.2))\n",
    "model.add(layers.Dense(7, activation='softmax'))\n",
    "model.compile(optimizer='adam',loss='categorical_crossentropy',metrics=['accuracy'])\n",
    "model.summary()\n",
    "\n",
    "history = model.fit(X_train, y_train,\n",
    "                    epochs=7,\n",
    "                    verbose=True,\n",
    "                    validation_data=(X_test, y_test),\n",
    "                    batch_size=20)\n",
    "\n",
    "loss, accuracy = model.evaluate(X_train, y_train, verbose=True)\n",
    "print(\"Training Accuracy: {:.4f}\".format(accuracy))\n",
    "loss, accuracy = model.evaluate(X_test, y_test, verbose=True)\n",
    "print(\"Testing Accuracy:  {:.4f}\".format(accuracy))\n",
    "plot_history(history)"
   ]
  },
  {
   "cell_type": "code",
   "execution_count": null,
   "metadata": {},
   "outputs": [],
   "source": []
  },
  {
   "cell_type": "code",
   "execution_count": null,
   "metadata": {},
   "outputs": [],
   "source": []
  },
  {
   "cell_type": "code",
   "execution_count": null,
   "metadata": {},
   "outputs": [],
   "source": []
  },
  {
   "cell_type": "code",
   "execution_count": null,
   "metadata": {},
   "outputs": [],
   "source": []
  }
 ],
 "metadata": {
  "kernelspec": {
   "display_name": "Python 3",
   "language": "python",
   "name": "python3"
  },
  "language_info": {
   "codemirror_mode": {
    "name": "ipython",
    "version": 3
   },
   "file_extension": ".py",
   "mimetype": "text/x-python",
   "name": "python",
   "nbconvert_exporter": "python",
   "pygments_lexer": "ipython3",
   "version": "3.6.8"
  }
 },
 "nbformat": 4,
 "nbformat_minor": 2
}
